{
 "cells": [
  {
   "cell_type": "code",
   "execution_count": 1,
   "id": "1cc0407e-c033-42a5-9f1d-8a044636908f",
   "metadata": {},
   "outputs": [],
   "source": [
    "import numpy as np\n",
    "import scipy.sparse as sp"
   ]
  },
  {
   "cell_type": "code",
   "execution_count": 2,
   "id": "eb16d7fd-5411-469e-adcc-bd711be76762",
   "metadata": {},
   "outputs": [],
   "source": [
    "path_dimenet_data = '/home/kotobiam/dimenet/data/qm9_eV.npz'"
   ]
  },
  {
   "cell_type": "code",
   "execution_count": 3,
   "id": "1feed4a8-da36-4be0-b47d-0ef8b82e6b16",
   "metadata": {},
   "outputs": [],
   "source": [
    "data = np.load(path_dimenet_data, allow_pickle=True)"
   ]
  },
  {
   "cell_type": "code",
   "execution_count": 4,
   "id": "51f1b9a5-fa9a-4f90-a5da-37a429d0212f",
   "metadata": {},
   "outputs": [
    {
     "name": "stdout",
     "output_type": "stream",
     "text": [
      "R\n",
      "N\n",
      "Z\n",
      "id\n",
      "A\n",
      "B\n",
      "C\n",
      "mu\n",
      "alpha\n",
      "homo\n",
      "lumo\n",
      "gap\n",
      "r2\n",
      "zpve\n",
      "U0\n",
      "U\n",
      "H\n",
      "G\n",
      "Cv\n",
      "meta\n"
     ]
    }
   ],
   "source": [
    "for k in data:\n",
    "    print(k)"
   ]
  },
  {
   "cell_type": "code",
   "execution_count": 5,
   "id": "4531a293-c968-47ec-954d-33d682c06593",
   "metadata": {},
   "outputs": [
    {
     "data": {
      "text/plain": [
       "array([ 5,  4,  3, ..., 17, 18, 16])"
      ]
     },
     "execution_count": 5,
     "metadata": {},
     "output_type": "execute_result"
    }
   ],
   "source": [
    "data['N']"
   ]
  },
  {
   "cell_type": "code",
   "execution_count": 22,
   "id": "53ac975a-43e2-47a2-ac9e-d2c8d84a6d1a",
   "metadata": {},
   "outputs": [],
   "source": []
  },
  {
   "cell_type": "code",
   "execution_count": 18,
   "id": "1097f428-f448-4f72-b1a1-672d5661442e",
   "metadata": {},
   "outputs": [
    {
     "data": {
      "text/plain": [
       "array([0, 1, 1, 1, 2, 2, 2, 2, 3, 3, 3, 3, 3, 4, 4, 4, 4, 4, 4, 4, 4])"
      ]
     },
     "execution_count": 18,
     "metadata": {},
     "output_type": "execute_result"
    }
   ],
   "source": [
    "np.repeat(np.arange(len([1, 2, 3, 4, 5])), [1, 3, 4, 5, 8])"
   ]
  },
  {
   "cell_type": "code",
   "execution_count": 23,
   "id": "8b7dcdab-210f-42d5-8b4e-3ffcf474892b",
   "metadata": {},
   "outputs": [
    {
     "data": {
      "text/plain": [
       "array([5, 4, 3])"
      ]
     },
     "execution_count": 23,
     "metadata": {},
     "output_type": "execute_result"
    }
   ],
   "source": [
    "N"
   ]
  },
  {
   "cell_type": "code",
   "execution_count": 8,
   "id": "2cf6271d-81d3-4c89-b058-9c2037a5a752",
   "metadata": {
    "collapsed": true,
    "jupyter": {
     "outputs_hidden": true
    },
    "tags": []
   },
   "outputs": [
    {
     "ename": "NameError",
     "evalue": "name 'N' is not defined",
     "output_type": "error",
     "traceback": [
      "\u001b[0;31m---------------------------------------------------------------------------\u001b[0m",
      "\u001b[0;31mNameError\u001b[0m                                 Traceback (most recent call last)",
      "Input \u001b[0;32mIn [8]\u001b[0m, in \u001b[0;36m<cell line: 1>\u001b[0;34m()\u001b[0m\n\u001b[0;32m----> 1\u001b[0m np\u001b[38;5;241m.\u001b[39mzeros(np\u001b[38;5;241m.\u001b[39msum(\u001b[43mN\u001b[49m[[\u001b[38;5;241m0\u001b[39m, \u001b[38;5;241m1\u001b[39m, \u001b[38;5;241m2\u001b[39m]]), dtype\u001b[38;5;241m=\u001b[39mnp\u001b[38;5;241m.\u001b[39mint32)\n",
      "\u001b[0;31mNameError\u001b[0m: name 'N' is not defined"
     ]
    }
   ],
   "source": [
    "np.zeros(np.sum(N[[0, 1, 2]]), dtype=np.int32)"
   ]
  },
  {
   "cell_type": "code",
   "execution_count": 17,
   "id": "c60396ce-31d1-4d4c-9ac1-ab9bcf96023c",
   "metadata": {},
   "outputs": [],
   "source": [
    "N = data['N'][[0, 1, 2]]\n",
    "N_cumsum = np.concatenate([[0], np.cumsum(data['N'])])\n",
    "Z = np.zeros(np.sum(N), dtype=np.int32)\n",
    "R = np.zeros([np.sum(N), 3], dtype=np.float32)\n",
    "adj_matrices=[]"
   ]
  },
  {
   "cell_type": "code",
   "execution_count": 18,
   "id": "3c74d4b2-ab21-41bc-90f4-ba58534d962f",
   "metadata": {
    "tags": []
   },
   "outputs": [],
   "source": [
    "def bmat_fast(mats):\n",
    "    new_data = np.concatenate([mat.data for mat in mats])\n",
    "\n",
    "    ind_offset = np.zeros(1 + len(mats))\n",
    "\n",
    "    ind_offset[1:] = np.cumsum([mat.shape[0] for mat in mats])\n",
    "\n",
    "    new_indices = np.concatenate(\n",
    "        [mats[i].indices + ind_offset[i] for i in range(len(mats))]\n",
    "    )\n",
    "\n",
    "    indptr_offset = np.zeros(1 + len(mats))\n",
    "    indptr_offset[1:] = np.cumsum([mat.nnz for mat in mats])\n",
    "    new_indptr = np.concatenate(\n",
    "        [adj_matrices[i].indptr[i >= 1:] + indptr_offset[i] for i in range(len(mats))]\n",
    "    )\n",
    "  \n",
    "    return sp.csr_matrix((new_data, new_indices, new_indptr))"
   ]
  },
  {
   "cell_type": "code",
   "execution_count": 19,
   "id": "6d8259b6-9791-4177-a8dc-f2ed33e1f913",
   "metadata": {
    "tags": []
   },
   "outputs": [],
   "source": [
    "nend=0\n",
    "for k, i in enumerate([0, 1, 2]):\n",
    "    n = N[k]\n",
    "    nstart=nend\n",
    "    nend=nstart+n\n",
    "    \n",
    "    Z[nstart:nend] = data['Z'][N_cumsum[i]:N_cumsum[i+1]]\n",
    "    positions = data['R'][N_cumsum[i]:N_cumsum[i+1]]\n",
    "    R[nstart:nend] = positions\n",
    "    \n",
    "    Dij = np.linalg.norm(positions[:, None, :] - positions[None, :, :], axis=-1)\n",
    "    \n",
    "    adj_matrices.append(sp.csr_matrix(Dij <= 3))\n",
    "\n",
    "    adj_matrices[-1] -= sp.eye(n, dtype=np.bool)\n",
    "    \n",
    "adj_matrix = bmat_fast(adj_matrices)\n",
    "\n",
    "atomids_to_edgeid = sp.csr_matrix(\n",
    "    (np.arange(adj_matrix.nnz), adj_matrix.indices, adj_matrix.indptr), \n",
    "    shape=adj_matrix.shape)\n",
    "\n"
   ]
  },
  {
   "cell_type": "code",
   "execution_count": 25,
   "id": "082f78cb-1aaf-4a49-a5de-b9c81d84ae98",
   "metadata": {},
   "outputs": [],
   "source": [
    "target, source = adj_matrix.nonzero()"
   ]
  },
  {
   "cell_type": "code",
   "execution_count": 39,
   "id": "0e3564b3-9a31-4336-b53f-d831ff54c6e0",
   "metadata": {},
   "outputs": [
    {
     "data": {
      "text/plain": [
       "array([ 1,  2,  3,  4,  0,  2,  3,  4,  0,  1,  3,  4,  0,  1,  2,  4,  0,\n",
       "        1,  2,  3,  6,  7,  8,  5,  7,  8,  5,  6,  8,  5,  6,  7, 10, 11,\n",
       "        9, 11,  9, 10], dtype=int32)"
      ]
     },
     "execution_count": 39,
     "metadata": {},
     "output_type": "execute_result"
    }
   ],
   "source": [
    "source"
   ]
  },
  {
   "cell_type": "code",
   "execution_count": 34,
   "id": "a5ffd24b-7dc2-4cd3-8e2d-0fc024324f29",
   "metadata": {},
   "outputs": [
    {
     "data": {
      "text/plain": [
       "array([4, 4, 4, 4, 4, 4, 4, 4, 4, 4, 4, 4, 4, 4, 4, 4, 4, 4, 4, 4, 3, 3,\n",
       "       3, 3, 3, 3, 3, 3, 3, 3, 3, 3, 2, 2, 2, 2, 2, 2])"
      ]
     },
     "execution_count": 34,
     "metadata": {},
     "output_type": "execute_result"
    }
   ],
   "source": [
    "adj_matrix[source].sum(1).A1"
   ]
  },
  {
   "cell_type": "code",
   "execution_count": 38,
   "id": "a21aef40-7b6f-4c46-8288-10157a429d5c",
   "metadata": {},
   "outputs": [
    {
     "data": {
      "text/plain": [
       "(38,)"
      ]
     },
     "execution_count": 38,
     "metadata": {},
     "output_type": "execute_result"
    }
   ],
   "source": [
    "adj_matrix.data.shape"
   ]
  },
  {
   "cell_type": "code",
   "execution_count": 42,
   "id": "37169247-b15d-481d-b3c7-68a18500ce85",
   "metadata": {},
   "outputs": [
    {
     "data": {
      "text/plain": [
       "array([ True,  True,  True,  True,  True,  True,  True,  True,  True,\n",
       "        True,  True,  True,  True,  True,  True,  True,  True,  True,\n",
       "        True,  True,  True,  True,  True,  True,  True,  True,  True,\n",
       "        True,  True,  True,  True,  True,  True,  True,  True,  True,\n",
       "        True,  True])"
      ]
     },
     "execution_count": 42,
     "metadata": {},
     "output_type": "execute_result"
    }
   ],
   "source": [
    "adj_matrix.data"
   ]
  },
  {
   "cell_type": "markdown",
   "id": "24897b89-8bf9-489f-8449-ad0ae0c15713",
   "metadata": {},
   "source": [
    "# Understanding sparse matrix"
   ]
  },
  {
   "cell_type": "code",
   "execution_count": 33,
   "id": "15a155ce-22d6-4a17-b958-45371a3f9ab6",
   "metadata": {},
   "outputs": [
    {
     "data": {
      "text/plain": [
       "array([[ True,  True,  True],\n",
       "       [ True,  True, False],\n",
       "       [ True, False,  True]])"
      ]
     },
     "execution_count": 33,
     "metadata": {},
     "output_type": "execute_result"
    }
   ],
   "source": [
    "Dij <= 1"
   ]
  },
  {
   "cell_type": "code",
   "execution_count": 31,
   "id": "4f1aca3a-1b2a-4cc9-8056-31ce1935397b",
   "metadata": {},
   "outputs": [
    {
     "data": {
      "text/plain": [
       "array([ True,  True,  True,  True,  True,  True,  True])"
      ]
     },
     "execution_count": 31,
     "metadata": {},
     "output_type": "execute_result"
    }
   ],
   "source": [
    "sp.csr_matrix(Dij <= 1).data"
   ]
  },
  {
   "cell_type": "code",
   "execution_count": 32,
   "id": "376a0fbb-9766-4fae-b7f8-65f72ba2faf5",
   "metadata": {},
   "outputs": [
    {
     "data": {
      "text/plain": [
       "array([0, 1, 2, 0, 1, 0, 2], dtype=int32)"
      ]
     },
     "execution_count": 32,
     "metadata": {},
     "output_type": "execute_result"
    }
   ],
   "source": [
    "sp.csr_matrix(Dij <= 1).indices"
   ]
  },
  {
   "cell_type": "code",
   "execution_count": 12,
   "id": "65dcb98d-53de-408d-9d21-365f8a04a236",
   "metadata": {},
   "outputs": [
    {
     "data": {
      "text/plain": [
       "array([3, 5, 7], dtype=int32)"
      ]
     },
     "execution_count": 12,
     "metadata": {},
     "output_type": "execute_result"
    }
   ],
   "source": [
    "sp.csr_matrix(Dij <= 1).indptr[i >= 1:]"
   ]
  },
  {
   "cell_type": "code",
   "execution_count": 11,
   "id": "8b76fa35-2b47-4aa8-8ee1-298abfc9f09a",
   "metadata": {},
   "outputs": [
    {
     "data": {
      "text/plain": [
       "7"
      ]
     },
     "execution_count": 11,
     "metadata": {},
     "output_type": "execute_result"
    }
   ],
   "source": [
    "sp.csr_matrix(Dij <= 1).nnz"
   ]
  },
  {
   "cell_type": "code",
   "execution_count": 31,
   "id": "c9450a5a-3ace-426b-bfaf-7ba77ed89e1b",
   "metadata": {},
   "outputs": [],
   "source": [
    "import dgl \n",
    "\n",
    "edgeid_to_target, edgeid_to_source = adj_matrix.nonzero()\n",
    "test_g = dgl.graph((edgeid_to_target, edgeid_to_source))"
   ]
  },
  {
   "cell_type": "code",
   "execution_count": 32,
   "id": "c95a20ea-4349-4c46-ad82-cf6ebf8f651e",
   "metadata": {},
   "outputs": [
    {
     "data": {
      "text/plain": [
       "Graph(num_nodes=12, num_edges=38,\n",
       "      ndata_schemes={}\n",
       "      edata_schemes={})"
      ]
     },
     "execution_count": 32,
     "metadata": {},
     "output_type": "execute_result"
    }
   ],
   "source": [
    "test_g"
   ]
  },
  {
   "cell_type": "code",
   "execution_count": 26,
   "id": "f05c680e-bdc3-42f4-a2b5-2488612308ab",
   "metadata": {},
   "outputs": [
    {
     "data": {
      "text/plain": [
       "array([[ 0,  1,  2,  3,  4,  5,  6,  7,  8,  9, 10, 11, 12, 13, 14, 15,\n",
       "        16, 17, 18, 19, 20, 21, 22, 23, 24, 25, 26, 27, 28, 29, 30, 31,\n",
       "        32, 33, 34, 35, 36, 37]])"
      ]
     },
     "execution_count": 26,
     "metadata": {},
     "output_type": "execute_result"
    }
   ],
   "source": [
    "sp.csr_matrix(np.arange(adj_matrix.nnz)).toarray()"
   ]
  },
  {
   "cell_type": "code",
   "execution_count": 15,
   "id": "44b0d31d-f849-43eb-adec-b0ce6a87b216",
   "metadata": {
    "tags": []
   },
   "outputs": [],
   "source": [
    "adj_matrices\n",
    "\n",
    "new_data = np.concatenate([mat.data for mat in adj_matrices])"
   ]
  },
  {
   "cell_type": "code",
   "execution_count": 16,
   "id": "c2801149-2a15-4e0e-91e4-2c62304b5741",
   "metadata": {},
   "outputs": [
    {
     "data": {
      "text/plain": [
       "array([[False,  True,  True,  True,  True],\n",
       "       [ True, False,  True,  True,  True],\n",
       "       [ True,  True, False,  True,  True],\n",
       "       [ True,  True,  True, False,  True],\n",
       "       [ True,  True,  True,  True, False]])"
      ]
     },
     "execution_count": 16,
     "metadata": {},
     "output_type": "execute_result"
    }
   ],
   "source": [
    "adj_matrices[0].toarray()"
   ]
  },
  {
   "cell_type": "code",
   "execution_count": null,
   "id": "84520d20-c426-42bc-b878-d05decc6fb6a",
   "metadata": {},
   "outputs": [],
   "source": []
  },
  {
   "cell_type": "code",
   "execution_count": null,
   "id": "8d928fa8-1196-45bc-afc9-0a1c029269e5",
   "metadata": {},
   "outputs": [],
   "source": []
  },
  {
   "cell_type": "code",
   "execution_count": 17,
   "id": "6e5acd18-2f28-4653-9aa6-2107f90ca446",
   "metadata": {},
   "outputs": [],
   "source": [
    "test_mat = [[0. , 1.0919529 , 1.0919516 , 1.0919464], \n",
    "            [0. , 1.0919529 , 0 , 1.0919464],\n",
    "           [0. , 1.0919529 , 1.0919516 , 1.0919464]]\n",
    "test_mat = np.asarray(test_mat)\n",
    "test_sp_mat = sp.csr_matrix(test_mat)"
   ]
  },
  {
   "cell_type": "code",
   "execution_count": 18,
   "id": "bee536cf-f59a-4a42-bd0f-12bcca7eb32d",
   "metadata": {},
   "outputs": [
    {
     "data": {
      "text/plain": [
       "array([1, 2, 3, 1, 3, 1, 2, 3], dtype=int32)"
      ]
     },
     "execution_count": 18,
     "metadata": {},
     "output_type": "execute_result"
    }
   ],
   "source": [
    "test_sp_mat.indices"
   ]
  },
  {
   "cell_type": "code",
   "execution_count": 19,
   "id": "68a88a41-ec7e-4664-9674-012be7671f00",
   "metadata": {},
   "outputs": [
    {
     "data": {
      "text/plain": [
       "array([[0.       , 1.0919529, 1.0919516, 1.0919464],\n",
       "       [0.       , 1.0919529, 0.       , 1.0919464],\n",
       "       [0.       , 1.0919529, 1.0919516, 1.0919464]])"
      ]
     },
     "execution_count": 19,
     "metadata": {},
     "output_type": "execute_result"
    }
   ],
   "source": [
    "test_sp_mat.toarray()"
   ]
  },
  {
   "cell_type": "code",
   "execution_count": 211,
   "id": "aebe6ed1-adb5-4bab-8172-5b3d74b40224",
   "metadata": {},
   "outputs": [
    {
     "data": {
      "text/plain": [
       "array([0, 3, 5, 8], dtype=int32)"
      ]
     },
     "execution_count": 211,
     "metadata": {},
     "output_type": "execute_result"
    }
   ],
   "source": [
    "test_sp_mat.indptr"
   ]
  },
  {
   "cell_type": "code",
   "execution_count": 205,
   "id": "30ccffdc-6c13-43af-820b-88a8bf0c5d38",
   "metadata": {},
   "outputs": [],
   "source": [
    "test_mat = np.asarray(test_mat)"
   ]
  },
  {
   "cell_type": "code",
   "execution_count": 207,
   "id": "adeae8e8-c887-4c08-9d7f-cc24cf95c5f3",
   "metadata": {},
   "outputs": [
    {
     "data": {
      "text/plain": [
       "(3, 4)"
      ]
     },
     "execution_count": 207,
     "metadata": {},
     "output_type": "execute_result"
    }
   ],
   "source": [
    "test_mat.shape"
   ]
  },
  {
   "cell_type": "code",
   "execution_count": null,
   "id": "b1970f80-4e24-442c-a1a0-6a272aa10dea",
   "metadata": {},
   "outputs": [],
   "source": []
  }
 ],
 "metadata": {
  "kernelspec": {
   "display_name": "PyG",
   "language": "python",
   "name": "pyg"
  },
  "language_info": {
   "codemirror_mode": {
    "name": "ipython",
    "version": 3
   },
   "file_extension": ".py",
   "mimetype": "text/x-python",
   "name": "python",
   "nbconvert_exporter": "python",
   "pygments_lexer": "ipython3",
   "version": "3.8.12"
  }
 },
 "nbformat": 4,
 "nbformat_minor": 5
}
