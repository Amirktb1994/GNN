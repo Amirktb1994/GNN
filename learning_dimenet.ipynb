{
 "cells": [
  {
   "cell_type": "code",
   "execution_count": 1,
   "id": "1cc0407e-c033-42a5-9f1d-8a044636908f",
   "metadata": {},
   "outputs": [],
   "source": [
    "import numpy as np\n",
    "import scipy.sparse as sp"
   ]
  },
  {
   "cell_type": "code",
   "execution_count": 2,
   "id": "eb16d7fd-5411-469e-adcc-bd711be76762",
   "metadata": {},
   "outputs": [],
   "source": [
    "path_dimenet_data = '/home/kotobiam/dimenet/data/qm9_eV.npz'"
   ]
  },
  {
   "cell_type": "code",
   "execution_count": 3,
   "id": "1feed4a8-da36-4be0-b47d-0ef8b82e6b16",
   "metadata": {},
   "outputs": [],
   "source": [
    "data = np.load(path_dimenet_data, allow_pickle=True)"
   ]
  },
  {
   "cell_type": "code",
   "execution_count": 25,
   "id": "51f1b9a5-fa9a-4f90-a5da-37a429d0212f",
   "metadata": {},
   "outputs": [
    {
     "name": "stdout",
     "output_type": "stream",
     "text": [
      "R\n",
      "N\n",
      "Z\n",
      "id\n",
      "A\n",
      "B\n",
      "C\n",
      "mu\n",
      "alpha\n",
      "homo\n",
      "lumo\n",
      "gap\n",
      "r2\n",
      "zpve\n",
      "U0\n",
      "U\n",
      "H\n",
      "G\n",
      "Cv\n",
      "meta\n"
     ]
    }
   ],
   "source": [
    "for k in data:\n",
    "    print(k)"
   ]
  },
  {
   "cell_type": "code",
   "execution_count": 85,
   "id": "c60396ce-31d1-4d4c-9ac1-ab9bcf96023c",
   "metadata": {},
   "outputs": [],
   "source": [
    "N = data['N'][[0, 1, 5]]\n",
    "N_cumsum = np.concatenate([[0], np.cumsum(data['N'])])\n",
    "Z = np.zeros(np.sum(N), dtype=np.int32)\n",
    "R = np.zeros([np.sum(N), 3], dtype=np.float32)\n",
    "adj_matrices=[]"
   ]
  },
  {
   "cell_type": "code",
   "execution_count": 86,
   "id": "3c74d4b2-ab21-41bc-90f4-ba58534d962f",
   "metadata": {
    "tags": []
   },
   "outputs": [],
   "source": [
    "def bmat_fast(mats):\n",
    "    new_data = np.concatenate([mat.data for mat in mats])\n",
    "\n",
    "    ind_offset = np.zeros(1 + len(mats))\n",
    "\n",
    "    ind_offset[1:] = np.cumsum([mat.shape[0] for mat in mats])\n",
    "\n",
    "    new_indices = np.concatenate(\n",
    "        [mats[i].indices + ind_offset[i] for i in range(len(mats))]\n",
    "    )\n",
    "\n",
    "    indptr_offset = np.zeros(1 + len(mats))\n",
    "    indptr_offset[1:] = np.cumsum([mat.nnz for mat in mats])\n",
    "    new_indptr = np.concatenate(\n",
    "        [adj_matrices[i].indptr[i >= 1:] + indptr_offset[i] for i in range(len(mats))]\n",
    "    )\n",
    "  \n",
    "    return sp.csr_matrix((new_data, new_indices, new_indptr))"
   ]
  },
  {
   "cell_type": "code",
   "execution_count": 87,
   "id": "6d8259b6-9791-4177-a8dc-f2ed33e1f913",
   "metadata": {
    "tags": []
   },
   "outputs": [],
   "source": [
    "nend=0\n",
    "for k, i in enumerate([0, 1, 5]):\n",
    "    n = N[k]\n",
    "    nstart=nend\n",
    "    nend=nstart+n\n",
    "    \n",
    "    s, e = (\n",
    "       N_cumsum[i],\n",
    "       N_cumsum[i+1]\n",
    "    )\n",
    "    \n",
    "    Z[nstart:nend] = data['Z'][s:e]\n",
    "    positions = data['R'][s:e]\n",
    "    R[nstart:nend] = positions\n",
    "    \n",
    "    Dij = np.linalg.norm(positions[:, None, :] - positions[None, :, :], axis=-1)\n",
    "    \n",
    "    adj_matrices.append(sp.csr_matrix(Dij <= 3))\n",
    "\n",
    "    adj_matrices[-1] -= sp.eye(n, dtype=np.bool)\n",
    "    \n",
    "adj_matrix = bmat_fast(adj_matrices)\n",
    "\n",
    "idx_t, idx_s = adj_matrix.nonzero()\n",
    "\n",
    "edge_ids = sp.csr_matrix(\n",
    "    (np.arange(adj_matrix.nnz), (idx_t, idx_s)), \n",
    "    shape=adj_matrix.shape,\n",
    "    dtype='int32'\n",
    ")\n",
    "\n"
   ]
  },
  {
   "cell_type": "code",
   "execution_count": 92,
   "id": "935f116b-d810-4104-9f93-47770cb664f4",
   "metadata": {},
   "outputs": [
    {
     "data": {
      "text/plain": [
       "array([[ 0,  0,  0,  0,  1,  1,  1,  1,  2,  2,  2,  2,  3,  3,  3,  3,\n",
       "         4,  4,  4,  4,  5,  5,  5,  6,  6,  6,  7,  7,  7,  8,  8,  8,\n",
       "         9,  9,  9, 10, 10, 10, 11, 11, 11, 12, 12, 12],\n",
       "       [ 1,  2,  3,  4,  0,  2,  3,  4,  0,  1,  3,  4,  0,  1,  2,  4,\n",
       "         0,  1,  2,  3,  6,  7,  8,  5,  7,  8,  5,  6,  8,  5,  6,  7,\n",
       "        10, 11, 12,  9, 11, 12,  9, 10, 12,  9, 10, 11]], dtype=int32)"
      ]
     },
     "execution_count": 92,
     "metadata": {},
     "output_type": "execute_result"
    }
   ],
   "source": [
    "edges"
   ]
  },
  {
   "cell_type": "code",
   "execution_count": 91,
   "id": "2ace57c0-6f9d-45e2-832b-4d8f97439be0",
   "metadata": {},
   "outputs": [],
   "source": [
    "edges = np.stack([idx_t, idx_s], axis=0)"
   ]
  },
  {
   "cell_type": "code",
   "execution_count": 93,
   "id": "ded53542-fcfa-4410-9e9f-f7abfa57b972",
   "metadata": {},
   "outputs": [],
   "source": [
    "mask = edges[0] < edges[1]"
   ]
  },
  {
   "cell_type": "code",
   "execution_count": 94,
   "id": "a784e50e-584e-4100-96b9-b4fc6d5c2938",
   "metadata": {},
   "outputs": [],
   "source": [
    "edges = edges[:, mask]"
   ]
  },
  {
   "cell_type": "code",
   "execution_count": 97,
   "id": "d5f14fbb-ea33-4708-8e0a-2773e9bce254",
   "metadata": {},
   "outputs": [
    {
     "data": {
      "text/plain": [
       "array([[ 0,  0,  0,  0,  1,  1,  1,  2,  2,  3,  5,  5,  5,  6,  6,  7,\n",
       "         9,  9,  9, 10, 10, 11],\n",
       "       [ 1,  2,  3,  4,  2,  3,  4,  3,  4,  4,  6,  7,  8,  7,  8,  8,\n",
       "        10, 11, 12, 11, 12, 12]], dtype=int32)"
      ]
     },
     "execution_count": 97,
     "metadata": {},
     "output_type": "execute_result"
    }
   ],
   "source": [
    "edges"
   ]
  },
  {
   "cell_type": "code",
   "execution_count": 96,
   "id": "50eb0291-e3b5-452b-89bf-836d5f4be6fe",
   "metadata": {},
   "outputs": [
    {
     "data": {
      "text/plain": [
       "array([[ 1,  2,  3,  4,  2,  3,  4,  3,  4,  4,  6,  7,  8,  7,  8,  8,\n",
       "        10, 11, 12, 11, 12, 12],\n",
       "       [ 0,  0,  0,  0,  1,  1,  1,  2,  2,  3,  5,  5,  5,  6,  6,  7,\n",
       "         9,  9,  9, 10, 10, 11]], dtype=int32)"
      ]
     },
     "execution_count": 96,
     "metadata": {},
     "output_type": "execute_result"
    }
   ],
   "source": [
    "edges[::-1]"
   ]
  },
  {
   "cell_type": "code",
   "execution_count": 98,
   "id": "f962bbe0-e1f6-4ea8-af38-fa3f23e2da83",
   "metadata": {},
   "outputs": [],
   "source": [
    "idx_t, idx_s = np.concatenate([edges, edges[::-1]], axis=-1)"
   ]
  },
  {
   "cell_type": "code",
   "execution_count": 99,
   "id": "e0b34980-4867-40fa-9ba0-9d1a0b1626e5",
   "metadata": {},
   "outputs": [
    {
     "data": {
      "text/plain": [
       "array([ 0,  0,  0,  0,  1,  1,  1,  2,  2,  3,  5,  5,  5,  6,  6,  7,  9,\n",
       "        9,  9, 10, 10, 11,  1,  2,  3,  4,  2,  3,  4,  3,  4,  4,  6,  7,\n",
       "        8,  7,  8,  8, 10, 11, 12, 11, 12, 12], dtype=int32)"
      ]
     },
     "execution_count": 99,
     "metadata": {},
     "output_type": "execute_result"
    }
   ],
   "source": [
    "idx_t"
   ]
  },
  {
   "cell_type": "code",
   "execution_count": 100,
   "id": "8f9dee3c-33fe-4ab6-b1e1-0fb7e052f0a5",
   "metadata": {},
   "outputs": [
    {
     "data": {
      "text/plain": [
       "array([ 1,  2,  3,  4,  2,  3,  4,  3,  4,  4,  6,  7,  8,  7,  8,  8, 10,\n",
       "       11, 12, 11, 12, 12,  0,  0,  0,  0,  1,  1,  1,  2,  2,  3,  5,  5,\n",
       "        5,  6,  6,  7,  9,  9,  9, 10, 10, 11], dtype=int32)"
      ]
     },
     "execution_count": 100,
     "metadata": {},
     "output_type": "execute_result"
    }
   ],
   "source": [
    "idx_s"
   ]
  },
  {
   "cell_type": "code",
   "execution_count": 45,
   "id": "d998cd6f-94a1-428b-a3c0-d7d34201e625",
   "metadata": {},
   "outputs": [],
   "source": [
    "N_undir_edges = int(len(idx_s) / 2)"
   ]
  },
  {
   "cell_type": "code",
   "execution_count": 47,
   "id": "f1284d76-05db-429f-8c1d-5ee40f88eb3b",
   "metadata": {},
   "outputs": [],
   "source": [
    "ind = np.arange(N_undir_edges)"
   ]
  },
  {
   "cell_type": "code",
   "execution_count": 101,
   "id": "991c379d-f7c3-4e34-8575-771f854dca64",
   "metadata": {},
   "outputs": [],
   "source": [
    "id_swap = np.concatenate([ind + N_undir_edges, ind])"
   ]
  },
  {
   "cell_type": "code",
   "execution_count": 102,
   "id": "7154863f-0fb7-460c-835b-3ed209ba3567",
   "metadata": {},
   "outputs": [
    {
     "data": {
      "text/plain": [
       "array([22, 23, 24, 25, 26, 27, 28, 29, 30, 31, 32, 33, 34, 35, 36, 37, 38,\n",
       "       39, 40, 41, 42, 43,  0,  1,  2,  3,  4,  5,  6,  7,  8,  9, 10, 11,\n",
       "       12, 13, 14, 15, 16, 17, 18, 19, 20, 21])"
      ]
     },
     "execution_count": 102,
     "metadata": {},
     "output_type": "execute_result"
    }
   ],
   "source": [
    "id_swap"
   ]
  },
  {
   "cell_type": "code",
   "execution_count": null,
   "id": "af53aef8-74cf-4e66-8bd0-38f514e2fde6",
   "metadata": {},
   "outputs": [],
   "source": []
  },
  {
   "cell_type": "code",
   "execution_count": 23,
   "id": "de3bac84-dc05-4e16-ade1-8e4964a0067f",
   "metadata": {},
   "outputs": [
    {
     "data": {
      "text/plain": [
       "<44x13 sparse matrix of type '<class 'numpy.int32'>'\n",
       "\twith 152 stored elements in Compressed Sparse Row format>"
      ]
     },
     "execution_count": 23,
     "metadata": {},
     "output_type": "execute_result"
    }
   ],
   "source": [
    "edge_ids[idx_t]"
   ]
  },
  {
   "cell_type": "code",
   "execution_count": 103,
   "id": "214d2f9e-dfae-4cd3-8009-ea144162789c",
   "metadata": {},
   "outputs": [],
   "source": [
    "id3_ba = edge_ids[idx_s].data.astype('int32').flatten()\n",
    "id3_ca = edge_ids[idx_s].tocoo().row.astype('int32').flatten()"
   ]
  },
  {
   "cell_type": "code",
   "execution_count": 104,
   "id": "a94a5291-8b7e-47fe-bbf2-80daf9974543",
   "metadata": {},
   "outputs": [],
   "source": [
    "id3_i = idx_t[id3_ca]\n",
    "id3_k = idx_s[id3_ba]"
   ]
  },
  {
   "cell_type": "code",
   "execution_count": 105,
   "id": "2d677fab-4367-46f2-8753-d5fa670832cb",
   "metadata": {},
   "outputs": [],
   "source": [
    "mask = id3_i != id3_k"
   ]
  },
  {
   "cell_type": "code",
   "execution_count": 107,
   "id": "7411a994-306d-42f7-bc12-9848b4dc59e9",
   "metadata": {},
   "outputs": [],
   "source": [
    "id3_ba = id3_ba[mask]\n",
    "id3_ca = id3_ca[mask]"
   ]
  },
  {
   "cell_type": "code",
   "execution_count": 109,
   "id": "2e15c46b-532d-4838-869b-8c3dd257b6cf",
   "metadata": {},
   "outputs": [],
   "source": [
    "id3_ca = id_swap[id3_ca]"
   ]
  },
  {
   "cell_type": "code",
   "execution_count": 111,
   "id": "58158bb8-573a-4ee0-a2dc-6497129c23fe",
   "metadata": {},
   "outputs": [],
   "source": [
    "idx_sorted = np.argsort(id3_ca)"
   ]
  },
  {
   "cell_type": "code",
   "execution_count": 112,
   "id": "f0e21143-722b-4fac-b781-889cf5bf6664",
   "metadata": {},
   "outputs": [
    {
     "data": {
      "text/plain": [
       "array([ 0,  0,  0,  1,  1,  1,  2,  2,  2,  3,  3,  3,  4,  4,  4,  5,  5,\n",
       "        6,  6,  6,  7,  7,  7,  7,  8,  8,  9,  9,  9,  9, 10, 10, 10, 11,\n",
       "       11, 11, 12, 12, 12, 13, 13, 13, 14, 14, 14, 15, 15, 15, 16, 16, 16,\n",
       "       17, 17, 17, 18, 18, 18, 19, 19, 19, 20, 20, 20, 21, 21, 21, 22, 22,\n",
       "       22, 22, 23, 23, 23, 23, 24, 24, 24, 24, 25, 25, 25, 25, 26, 26, 26,\n",
       "       26, 27, 27, 27, 27, 28, 28, 28, 28, 29, 29, 29, 29, 30, 30, 30, 30,\n",
       "       31, 31, 31, 31, 32, 32, 32, 33, 33, 33, 34, 34, 34, 35, 35, 35, 36,\n",
       "       36, 36, 37, 37, 37, 38, 38, 38, 40, 40, 40, 41, 41, 41, 42, 43, 43])"
      ]
     },
     "execution_count": 112,
     "metadata": {},
     "output_type": "execute_result"
    }
   ],
   "source": [
    "id3_ca[idx_sorted]"
   ]
  },
  {
   "cell_type": "code",
   "execution_count": 113,
   "id": "28a7f4ee-b009-4b79-af7b-4aa1be9e4df7",
   "metadata": {},
   "outputs": [
    {
     "data": {
      "text/plain": [
       "array([ 3,  2,  1,  0,  2,  3,  0,  1,  3,  0,  1,  2,  5,  6,  7,  4,  6,\n",
       "        7,  5,  4,  8,  9, 10, 11, 10, 11, 12, 13, 14, 15, 20, 21, 22, 22,\n",
       "       21, 20, 22, 21, 20, 23, 24, 25, 23, 24, 25, 26, 27, 28, 33, 32, 34,\n",
       "       33, 34, 32, 32, 33, 34, 35, 36, 37, 35, 36, 37, 40, 38, 39,  4,  5,\n",
       "        6,  7,  9, 11,  8, 10, 12, 13, 14, 15, 16, 17, 18, 19, 11,  9,  8,\n",
       "       10, 12, 13, 14, 15, 19, 17, 16, 18, 12, 13, 14, 15, 16, 18, 17, 19,\n",
       "       17, 16, 19, 18, 23, 24, 25, 26, 27, 28, 29, 30, 31, 28, 26, 27, 30,\n",
       "       31, 29, 29, 30, 31, 35, 36, 37, 41, 42, 43, 39, 38, 40, 43, 42, 41],\n",
       "      dtype=int32)"
      ]
     },
     "execution_count": 113,
     "metadata": {},
     "output_type": "execute_result"
    }
   ],
   "source": [
    "id3_ba[idx_sorted]"
   ]
  },
  {
   "cell_type": "markdown",
   "id": "24897b89-8bf9-489f-8449-ad0ae0c15713",
   "metadata": {},
   "source": [
    "# Understanding sparse matrix"
   ]
  },
  {
   "cell_type": "code",
   "execution_count": 33,
   "id": "15a155ce-22d6-4a17-b958-45371a3f9ab6",
   "metadata": {},
   "outputs": [
    {
     "data": {
      "text/plain": [
       "array([[ True,  True,  True],\n",
       "       [ True,  True, False],\n",
       "       [ True, False,  True]])"
      ]
     },
     "execution_count": 33,
     "metadata": {},
     "output_type": "execute_result"
    }
   ],
   "source": [
    "Dij <= 1"
   ]
  },
  {
   "cell_type": "code",
   "execution_count": 31,
   "id": "4f1aca3a-1b2a-4cc9-8056-31ce1935397b",
   "metadata": {},
   "outputs": [
    {
     "data": {
      "text/plain": [
       "array([ True,  True,  True,  True,  True,  True,  True])"
      ]
     },
     "execution_count": 31,
     "metadata": {},
     "output_type": "execute_result"
    }
   ],
   "source": [
    "sp.csr_matrix(Dij <= 1).data"
   ]
  },
  {
   "cell_type": "code",
   "execution_count": 32,
   "id": "376a0fbb-9766-4fae-b7f8-65f72ba2faf5",
   "metadata": {},
   "outputs": [
    {
     "data": {
      "text/plain": [
       "array([0, 1, 2, 0, 1, 0, 2], dtype=int32)"
      ]
     },
     "execution_count": 32,
     "metadata": {},
     "output_type": "execute_result"
    }
   ],
   "source": [
    "sp.csr_matrix(Dij <= 1).indices"
   ]
  },
  {
   "cell_type": "code",
   "execution_count": 12,
   "id": "65dcb98d-53de-408d-9d21-365f8a04a236",
   "metadata": {},
   "outputs": [
    {
     "data": {
      "text/plain": [
       "array([3, 5, 7], dtype=int32)"
      ]
     },
     "execution_count": 12,
     "metadata": {},
     "output_type": "execute_result"
    }
   ],
   "source": [
    "sp.csr_matrix(Dij <= 1).indptr[i >= 1:]"
   ]
  },
  {
   "cell_type": "code",
   "execution_count": 11,
   "id": "8b76fa35-2b47-4aa8-8ee1-298abfc9f09a",
   "metadata": {},
   "outputs": [
    {
     "data": {
      "text/plain": [
       "7"
      ]
     },
     "execution_count": 11,
     "metadata": {},
     "output_type": "execute_result"
    }
   ],
   "source": [
    "sp.csr_matrix(Dij <= 1).nnz"
   ]
  },
  {
   "cell_type": "code",
   "execution_count": 31,
   "id": "c9450a5a-3ace-426b-bfaf-7ba77ed89e1b",
   "metadata": {},
   "outputs": [],
   "source": [
    "import dgl \n",
    "\n",
    "edgeid_to_target, edgeid_to_source = adj_matrix.nonzero()\n",
    "test_g = dgl.graph((edgeid_to_target, edgeid_to_source))"
   ]
  },
  {
   "cell_type": "code",
   "execution_count": 32,
   "id": "c95a20ea-4349-4c46-ad82-cf6ebf8f651e",
   "metadata": {},
   "outputs": [
    {
     "data": {
      "text/plain": [
       "Graph(num_nodes=12, num_edges=38,\n",
       "      ndata_schemes={}\n",
       "      edata_schemes={})"
      ]
     },
     "execution_count": 32,
     "metadata": {},
     "output_type": "execute_result"
    }
   ],
   "source": [
    "test_g"
   ]
  },
  {
   "cell_type": "code",
   "execution_count": 26,
   "id": "f05c680e-bdc3-42f4-a2b5-2488612308ab",
   "metadata": {},
   "outputs": [
    {
     "data": {
      "text/plain": [
       "array([[ 0,  1,  2,  3,  4,  5,  6,  7,  8,  9, 10, 11, 12, 13, 14, 15,\n",
       "        16, 17, 18, 19, 20, 21, 22, 23, 24, 25, 26, 27, 28, 29, 30, 31,\n",
       "        32, 33, 34, 35, 36, 37]])"
      ]
     },
     "execution_count": 26,
     "metadata": {},
     "output_type": "execute_result"
    }
   ],
   "source": [
    "sp.csr_matrix(np.arange(adj_matrix.nnz)).toarray()"
   ]
  },
  {
   "cell_type": "code",
   "execution_count": 15,
   "id": "44b0d31d-f849-43eb-adec-b0ce6a87b216",
   "metadata": {
    "tags": []
   },
   "outputs": [],
   "source": [
    "adj_matrices\n",
    "\n",
    "new_data = np.concatenate([mat.data for mat in adj_matrices])"
   ]
  },
  {
   "cell_type": "code",
   "execution_count": 16,
   "id": "c2801149-2a15-4e0e-91e4-2c62304b5741",
   "metadata": {},
   "outputs": [
    {
     "data": {
      "text/plain": [
       "array([[False,  True,  True,  True,  True],\n",
       "       [ True, False,  True,  True,  True],\n",
       "       [ True,  True, False,  True,  True],\n",
       "       [ True,  True,  True, False,  True],\n",
       "       [ True,  True,  True,  True, False]])"
      ]
     },
     "execution_count": 16,
     "metadata": {},
     "output_type": "execute_result"
    }
   ],
   "source": [
    "adj_matrices[0].toarray()"
   ]
  },
  {
   "cell_type": "code",
   "execution_count": null,
   "id": "84520d20-c426-42bc-b878-d05decc6fb6a",
   "metadata": {},
   "outputs": [],
   "source": []
  },
  {
   "cell_type": "code",
   "execution_count": null,
   "id": "8d928fa8-1196-45bc-afc9-0a1c029269e5",
   "metadata": {},
   "outputs": [],
   "source": []
  },
  {
   "cell_type": "code",
   "execution_count": 17,
   "id": "6e5acd18-2f28-4653-9aa6-2107f90ca446",
   "metadata": {},
   "outputs": [],
   "source": [
    "test_mat = [[0. , 1.0919529 , 1.0919516 , 1.0919464], \n",
    "            [0. , 1.0919529 , 0 , 1.0919464],\n",
    "           [0. , 1.0919529 , 1.0919516 , 1.0919464]]\n",
    "test_mat = np.asarray(test_mat)\n",
    "test_sp_mat = sp.csr_matrix(test_mat)"
   ]
  },
  {
   "cell_type": "code",
   "execution_count": 18,
   "id": "bee536cf-f59a-4a42-bd0f-12bcca7eb32d",
   "metadata": {},
   "outputs": [
    {
     "data": {
      "text/plain": [
       "array([1, 2, 3, 1, 3, 1, 2, 3], dtype=int32)"
      ]
     },
     "execution_count": 18,
     "metadata": {},
     "output_type": "execute_result"
    }
   ],
   "source": [
    "test_sp_mat.indices"
   ]
  },
  {
   "cell_type": "code",
   "execution_count": 19,
   "id": "68a88a41-ec7e-4664-9674-012be7671f00",
   "metadata": {},
   "outputs": [
    {
     "data": {
      "text/plain": [
       "array([[0.       , 1.0919529, 1.0919516, 1.0919464],\n",
       "       [0.       , 1.0919529, 0.       , 1.0919464],\n",
       "       [0.       , 1.0919529, 1.0919516, 1.0919464]])"
      ]
     },
     "execution_count": 19,
     "metadata": {},
     "output_type": "execute_result"
    }
   ],
   "source": [
    "test_sp_mat.toarray()"
   ]
  },
  {
   "cell_type": "code",
   "execution_count": 211,
   "id": "aebe6ed1-adb5-4bab-8172-5b3d74b40224",
   "metadata": {},
   "outputs": [
    {
     "data": {
      "text/plain": [
       "array([0, 3, 5, 8], dtype=int32)"
      ]
     },
     "execution_count": 211,
     "metadata": {},
     "output_type": "execute_result"
    }
   ],
   "source": [
    "test_sp_mat.indptr"
   ]
  },
  {
   "cell_type": "code",
   "execution_count": 205,
   "id": "30ccffdc-6c13-43af-820b-88a8bf0c5d38",
   "metadata": {},
   "outputs": [],
   "source": [
    "test_mat = np.asarray(test_mat)"
   ]
  },
  {
   "cell_type": "code",
   "execution_count": 207,
   "id": "adeae8e8-c887-4c08-9d7f-cc24cf95c5f3",
   "metadata": {},
   "outputs": [
    {
     "data": {
      "text/plain": [
       "(3, 4)"
      ]
     },
     "execution_count": 207,
     "metadata": {},
     "output_type": "execute_result"
    }
   ],
   "source": [
    "test_mat.shape"
   ]
  },
  {
   "cell_type": "code",
   "execution_count": 50,
   "id": "b1970f80-4e24-442c-a1a0-6a272aa10dea",
   "metadata": {},
   "outputs": [],
   "source": [
    "from ase import Atoms"
   ]
  },
  {
   "cell_type": "code",
   "execution_count": 45,
   "id": "f78a9a35-f018-470d-8460-385ee0b486bb",
   "metadata": {},
   "outputs": [
    {
     "data": {
      "text/plain": [
       "array([6, 1, 1, 1, 1, 7, 1, 1, 1, 8, 1, 1], dtype=int32)"
      ]
     },
     "execution_count": 45,
     "metadata": {},
     "output_type": "execute_result"
    }
   ],
   "source": [
    "Z"
   ]
  },
  {
   "cell_type": "code",
   "execution_count": 51,
   "id": "73cc3734-9dae-4de5-ac36-3c2a1e32498f",
   "metadata": {},
   "outputs": [
    {
     "data": {
      "text/plain": [
       "ase.atoms.Atoms"
      ]
     },
     "execution_count": 51,
     "metadata": {},
     "output_type": "execute_result"
    }
   ],
   "source": [
    "type(Atoms(positions=R, numbers=Z))"
   ]
  },
  {
   "cell_type": "code",
   "execution_count": 63,
   "id": "b6c3db49-c4e5-42a1-ae71-2ea3fdb70e11",
   "metadata": {},
   "outputs": [],
   "source": [
    "np.savez('./test.npz', Z)"
   ]
  },
  {
   "cell_type": "code",
   "execution_count": 64,
   "id": "a250ac8d-19e4-443b-9ea1-8494e5f170ae",
   "metadata": {},
   "outputs": [],
   "source": [
    "test = np.load('./test.npz')"
   ]
  },
  {
   "cell_type": "code",
   "execution_count": 65,
   "id": "93c58b93-8dba-44e1-a6f4-a63eb3b0732b",
   "metadata": {},
   "outputs": [
    {
     "name": "stdout",
     "output_type": "stream",
     "text": [
      "arr_0\n"
     ]
    }
   ],
   "source": [
    "for k in test:\n",
    "    print(k)"
   ]
  },
  {
   "cell_type": "code",
   "execution_count": null,
   "id": "40eb6470-c905-4d1b-abf5-ffe6f957a6c2",
   "metadata": {},
   "outputs": [],
   "source": [
    "test_dict "
   ]
  },
  {
   "cell_type": "code",
   "execution_count": 67,
   "id": "6f82bb2c-fc1f-42d2-92b9-792af53ee923",
   "metadata": {},
   "outputs": [
    {
     "data": {
      "text/plain": [
       "numpy.ndarray"
      ]
     },
     "execution_count": 67,
     "metadata": {},
     "output_type": "execute_result"
    }
   ],
   "source": [
    "type(R)"
   ]
  },
  {
   "cell_type": "code",
   "execution_count": null,
   "id": "f67a28d3-357b-4ce1-b391-495319305461",
   "metadata": {},
   "outputs": [],
   "source": []
  }
 ],
 "metadata": {
  "kernelspec": {
   "display_name": "PyG",
   "language": "python",
   "name": "pyg"
  },
  "language_info": {
   "codemirror_mode": {
    "name": "ipython",
    "version": 3
   },
   "file_extension": ".py",
   "mimetype": "text/x-python",
   "name": "python",
   "nbconvert_exporter": "python",
   "pygments_lexer": "ipython3",
   "version": "3.8.12"
  }
 },
 "nbformat": 4,
 "nbformat_minor": 5
}
