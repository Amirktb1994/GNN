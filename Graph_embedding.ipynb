{
 "cells": [
  {
   "cell_type": "code",
   "execution_count": 1,
   "id": "82cb5d43-f6e5-43c3-aaf1-582da2c06252",
   "metadata": {},
   "outputs": [],
   "source": [
    "import os\n",
    "import pandas as pd\n",
    "import numpy as np\n",
    "import seaborn as sns\n",
    "import matplotlib.pyplot as plt\n",
    "from pylab import rcParams \n",
    "\n",
    "rcParams['figure.figsize'] = 12, 10\n",
    "sns.set(style='whitegrid', palette='muted', font_scale=1.2)\n",
    "\n",
    "import torch \n",
    "from karateclub import Graph2Vec\n",
    "\n",
    "#from rdkit import Chem\n",
    "import networkx as nx\n",
    "\n",
    "from torch_geometric.utils import to_networkx, from_networkx\n",
    "import torch_geometric"
   ]
  },
  {
   "cell_type": "markdown",
   "id": "65c1be42-4c72-4d60-a9e2-5b17aa7def09",
   "metadata": {},
   "source": [
    "Loading the dataset and convert to network"
   ]
  },
  {
   "cell_type": "code",
   "execution_count": 40,
   "id": "90b31c70-db39-4709-bedf-4b71d5327ddc",
   "metadata": {},
   "outputs": [],
   "source": [
    "def graph2vec(nx_dataset):\n",
    "    model = Graph2Vec()\n",
    "    model.fit(nx_dataset)\n",
    "    all_data_graph2vec = model.get_embedding()\n",
    "    return all_data_graph2vec"
   ]
  },
  {
   "cell_type": "code",
   "execution_count": 2,
   "id": "46d0ed26-a120-4e82-a03b-b07158ca95a8",
   "metadata": {},
   "outputs": [],
   "source": [
    "all_data = torch.load('/beegfs/desy/user/kotobiam/GNN_training/' + 'networks_nexfas_db.pt')\n",
    "gnn_dataset_nx = []\n",
    "for data in all_data:\n",
    "    gnn_dataset_nx.append(to_networkx(data))"
   ]
  },
  {
   "cell_type": "code",
   "execution_count": 6,
   "id": "a933349d-a622-490e-b570-f6930550ffdb",
   "metadata": {},
   "outputs": [
    {
     "data": {
      "text/plain": [
       "(140, 128)"
      ]
     },
     "execution_count": 6,
     "metadata": {},
     "output_type": "execute_result"
    }
   ],
   "source": [
    "all_data_graph2vec.shape"
   ]
  },
  {
   "cell_type": "code",
   "execution_count": 14,
   "id": "1d3ef3f1-b03d-4127-b0e3-f798d177327f",
   "metadata": {},
   "outputs": [
    {
     "data": {
      "text/plain": [
       "<networkx.classes.digraph.DiGraph at 0x2ba077f7c400>"
      ]
     },
     "execution_count": 14,
     "metadata": {},
     "output_type": "execute_result"
    }
   ],
   "source": [
    "to_networkx(all_data[0])"
   ]
  },
  {
   "cell_type": "markdown",
   "id": "b218f3f4-09bd-4850-b756-10d7e7cbf096",
   "metadata": {},
   "source": [
    "## clustering the graph embedding"
   ]
  },
  {
   "cell_type": "code",
   "execution_count": 2,
   "id": "94e0213f-0ecb-4ef4-ad5f-c25588087745",
   "metadata": {},
   "outputs": [],
   "source": [
    "import hdbscan\n",
    "\n",
    "from sklearn.manifold import TSNE"
   ]
  },
  {
   "cell_type": "code",
   "execution_count": 33,
   "id": "22f03076-ac3b-4e2d-9031-391f78e3d3c5",
   "metadata": {},
   "outputs": [
    {
     "data": {
      "text/plain": [
       "<matplotlib.collections.PathCollection at 0x7f125bce2760>"
      ]
     },
     "execution_count": 33,
     "metadata": {},
     "output_type": "execute_result"
    },
    {
     "data": {
      "image/png": "[encoded data removed]",
      "text/plain": [
       "<Figure size 864x720 with 1 Axes>"
      ]
     },
     "metadata": {},
     "output_type": "display_data"
    }
   ],
   "source": [
    "tsne_ldData = TSNE(n_components=2, perplexity=20).fit_transform(all_data_graph2vec)\n",
    "plt.scatter(tsne_ldData[:, 0], tsne_ldData[:, 1])"
   ]
  },
  {
   "cell_type": "code",
   "execution_count": 38,
   "id": "b2f3f95f-0a6f-4a8b-b113-04e24934b378",
   "metadata": {},
   "outputs": [],
   "source": [
    "min_cluster=2\n",
    "min_samples=1\n",
    "\n",
    "clusterer = hdbscan.HDBSCAN(min_cluster_size=min_cluster, min_samples=min_samples, \\\n",
    "                            cluster_selection_epsilon=0.5).fit(all_data_graph2vec)"
   ]
  },
  {
   "cell_type": "code",
   "execution_count": 39,
   "id": "ec38b5e7-7151-4c59-a006-cc0766c809bc",
   "metadata": {},
   "outputs": [
    {
     "name": "stdout",
     "output_type": "stream",
     "text": [
      "1\n"
     ]
    }
   ],
   "source": [
    "print(max(clusterer.labels_))"
   ]
  },
  {
   "cell_type": "markdown",
   "id": "a27908b8-aad1-49d1-a3b3-f072e783db3b",
   "metadata": {},
   "source": [
    "# Graph embeddings on prepared datasets"
   ]
  },
  {
   "cell_type": "code",
   "execution_count": 20,
   "id": "2901a043-a76d-4b09-8c36-31a967125a94",
   "metadata": {},
   "outputs": [],
   "source": [
    "tu_dataset = torch_geometric.datasets.TUDataset(root='./', name=\"MUTAG\")"
   ]
  },
  {
   "cell_type": "code",
   "execution_count": 42,
   "id": "8e4abf26-d1e8-4ae8-ac13-59f4c8981f56",
   "metadata": {},
   "outputs": [
    {
     "name": "stderr",
     "output_type": "stream",
     "text": [
      "Downloading https://github.com/kimiyoung/planetoid/raw/master/data/ind.cora.x\n",
      "Downloading https://github.com/kimiyoung/planetoid/raw/master/data/ind.cora.tx\n",
      "Downloading https://github.com/kimiyoung/planetoid/raw/master/data/ind.cora.allx\n",
      "Downloading https://github.com/kimiyoung/planetoid/raw/master/data/ind.cora.y\n",
      "Downloading https://github.com/kimiyoung/planetoid/raw/master/data/ind.cora.ty\n",
      "Downloading https://github.com/kimiyoung/planetoid/raw/master/data/ind.cora.ally\n",
      "Downloading https://github.com/kimiyoung/planetoid/raw/master/data/ind.cora.graph\n",
      "Downloading https://github.com/kimiyoung/planetoid/raw/master/data/ind.cora.test.index\n",
      "Processing...\n",
      "Done!\n"
     ]
    }
   ],
   "source": [
    "cora_dataset = torch_geometric.datasets.Planetoid(root='./', name=\"Cora\")"
   ]
  },
  {
   "cell_type": "code",
   "execution_count": 47,
   "id": "b2295d24-1446-4248-ab25-0ac45581984a",
   "metadata": {},
   "outputs": [
    {
     "data": {
      "text/plain": [
       "1"
      ]
     },
     "execution_count": 47,
     "metadata": {},
     "output_type": "execute_result"
    }
   ],
   "source": [
    "len(cora_dataset)"
   ]
  },
  {
   "cell_type": "code",
   "execution_count": 44,
   "id": "44da2faa-d46a-47d5-8e2a-f1e704666d2b",
   "metadata": {},
   "outputs": [],
   "source": [
    "cora_dataset_nx = []\n",
    "\n",
    "for data in cora_dataset:\n",
    "    cora_dataset_nx.append(to_networkx(data))"
   ]
  },
  {
   "cell_type": "code",
   "execution_count": 45,
   "id": "d7430e2d-7f52-49e3-bdeb-0af933291cca",
   "metadata": {
    "tags": []
   },
   "outputs": [],
   "source": [
    "all_data_graph2vec = graph2vec(cora_dataset_nx)"
   ]
  },
  {
   "cell_type": "code",
   "execution_count": 46,
   "id": "57de8f0f-4ebf-4970-99fb-0e0c73d18c30",
   "metadata": {},
   "outputs": [
    {
     "data": {
      "text/plain": [
       "(1, 128)"
      ]
     },
     "execution_count": 46,
     "metadata": {},
     "output_type": "execute_result"
    }
   ],
   "source": [
    "all_data_graph2vec.shape"
   ]
  },
  {
   "cell_type": "code",
   "execution_count": null,
   "id": "9582d789-1492-44f8-a42b-c4ee3e81a9fd",
   "metadata": {},
   "outputs": [],
   "source": []
  }
 ],
 "metadata": {
  "kernelspec": {
   "display_name": "GNN_env1",
   "language": "python",
   "name": "gnn_env1"
  },
  "language_info": {
   "codemirror_mode": {
    "name": "ipython",
    "version": 3
   },
   "file_extension": ".py",
   "mimetype": "text/x-python",
   "name": "python",
   "nbconvert_exporter": "python",
   "pygments_lexer": "ipython3",
   "version": "3.8.5"
  }
 },
 "nbformat": 4,
 "nbformat_minor": 5
}
