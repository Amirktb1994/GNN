{
 "cells": [
  {
   "cell_type": "code",
   "execution_count": null,
   "id": "e5763b3b-34d6-4b55-96dd-aa41c46b5ef2",
   "metadata": {},
   "outputs": [],
   "source": [
    "import dgl \n",
    "import torch"
   ]
  },
  {
   "cell_type": "markdown",
   "id": "71b5c4f8-5d96-4c24-b28a-7b5bb942b594",
   "metadata": {},
   "source": [
    "# basics of creating the graph"
   ]
  },
  {
   "cell_type": "code",
   "execution_count": 3,
   "id": "0561189a-47ba-4693-ba84-2aaf261ac7c3",
   "metadata": {},
   "outputs": [],
   "source": [
    "u, v = torch.tensor([0, 0, 0, 1]), torch.tensor([1, 2, 3, 3])"
   ]
  },
  {
   "cell_type": "code",
   "execution_count": 5,
   "id": "c21616b4-9a57-41c8-a1c8-9574cdd63039",
   "metadata": {},
   "outputs": [],
   "source": [
    "g = dgl.graph((u, v))"
   ]
  },
  {
   "cell_type": "code",
   "execution_count": 6,
   "id": "5215fdd0-214b-426f-b358-457c3334ce5c",
   "metadata": {},
   "outputs": [
    {
     "name": "stdout",
     "output_type": "stream",
     "text": [
      "Graph(num_nodes=4, num_edges=4,\n",
      "      ndata_schemes={}\n",
      "      edata_schemes={})\n"
     ]
    }
   ],
   "source": [
    "print(g)"
   ]
  },
  {
   "cell_type": "code",
   "execution_count": 16,
   "id": "9041e261-c5e9-4722-8cd9-1f52dad77e7a",
   "metadata": {},
   "outputs": [
    {
     "data": {
      "text/plain": [
       "(tensor([0, 0, 0, 1]), tensor([1, 2, 3, 3]))"
      ]
     },
     "execution_count": 16,
     "metadata": {},
     "output_type": "execute_result"
    }
   ],
   "source": [
    "#node IDs\n",
    "g.nodes()\n",
    "#edge end nodes \n",
    "g.edges()"
   ]
  },
  {
   "cell_type": "code",
   "execution_count": 12,
   "id": "514fe584-b45e-4cc7-bf29-2392fb130ce3",
   "metadata": {},
   "outputs": [
    {
     "data": {
      "text/plain": [
       "(tensor([0, 0, 0, 1]), tensor([1, 2, 3, 3]), tensor([0, 1, 2, 3]))"
      ]
     },
     "execution_count": 12,
     "metadata": {},
     "output_type": "execute_result"
    }
   ],
   "source": [
    "# edge end nodes and edge ids\n",
    "g.edges(form='all')"
   ]
  },
  {
   "cell_type": "code",
   "execution_count": 13,
   "id": "319d146c-c8c7-41f9-9db9-2e09a0e68c50",
   "metadata": {},
   "outputs": [],
   "source": [
    "g = dgl.graph((u, v), num_nodes=8)"
   ]
  },
  {
   "cell_type": "code",
   "execution_count": 15,
   "id": "06456e85-0c14-414e-aaea-a7edeb540efb",
   "metadata": {},
   "outputs": [
    {
     "data": {
      "text/plain": [
       "(tensor([0, 0, 0, 1, 1, 2, 3, 3]), tensor([1, 2, 3, 0, 3, 0, 0, 1]))"
      ]
     },
     "execution_count": 15,
     "metadata": {},
     "output_type": "execute_result"
    }
   ],
   "source": [
    "#undirected graph \n",
    "bg = dgl.to_bidirected(g)\n",
    "bg.edges()"
   ]
  },
  {
   "cell_type": "code",
   "execution_count": 17,
   "id": "0896f21a-3863-4357-b839-2cdb45542903",
   "metadata": {},
   "outputs": [],
   "source": [
    "edges = torch.tensor([2, 4, 3]), torch.tensor([4, 5, 0])\n",
    "\n",
    "g = dgl.graph(edges)"
   ]
  },
  {
   "cell_type": "code",
   "execution_count": 19,
   "id": "30ca3a85-e81e-4a07-a16b-62874df2910d",
   "metadata": {},
   "outputs": [
    {
     "data": {
      "text/plain": [
       "(tensor([2, 4, 3]), tensor([4, 5, 0]))"
      ]
     },
     "execution_count": 19,
     "metadata": {},
     "output_type": "execute_result"
    }
   ],
   "source": [
    "g.nodes()\n",
    "\n",
    "g.edges()"
   ]
  },
  {
   "cell_type": "code",
   "execution_count": 20,
   "id": "09442c99-9c72-4cbf-9884-37dce854e8b9",
   "metadata": {},
   "outputs": [],
   "source": [
    "# dgl uses int64 by default, but using int32 instead\n",
    "g32 = dgl.graph(edges, idtype=torch.int32)"
   ]
  },
  {
   "cell_type": "code",
   "execution_count": 21,
   "id": "ad50dbb3-4b3f-460f-9faf-b57b7aa8029c",
   "metadata": {},
   "outputs": [
    {
     "data": {
      "text/plain": [
       "Graph(num_nodes=6, num_edges=3,\n",
       "      ndata_schemes={}\n",
       "      edata_schemes={})"
      ]
     },
     "execution_count": 21,
     "metadata": {},
     "output_type": "execute_result"
    }
   ],
   "source": [
    "g32"
   ]
  },
  {
   "cell_type": "markdown",
   "id": "e86b8d46-2c39-4b8b-9864-321691ceda29",
   "metadata": {},
   "source": [
    "# node and edge features "
   ]
  },
  {
   "cell_type": "code",
   "execution_count": 38,
   "id": "145460f0-1d96-486d-93ce-180482435849",
   "metadata": {},
   "outputs": [
    {
     "data": {
      "text/plain": [
       "Graph(num_nodes=4, num_edges=4,\n",
       "      ndata_schemes={}\n",
       "      edata_schemes={})"
      ]
     },
     "execution_count": 38,
     "metadata": {},
     "output_type": "execute_result"
    }
   ],
   "source": [
    "g = dgl.graph((torch.tensor([0, 0, 0, 1]), torch.tensor([1, 2, 3, 3])))\n",
    "g"
   ]
  },
  {
   "cell_type": "code",
   "execution_count": 28,
   "id": "54d8aa61-d072-42d1-a6f3-0d30a383772d",
   "metadata": {},
   "outputs": [],
   "source": [
    "# adding node and edge features \n",
    "g.ndata['x'] = torch.ones(g.num_nodes(), 3)\n",
    "g.edata['x'] = torch.ones(g.num_nodes(), dtype=torch.int32)\n",
    "g.ndata['y'] = torch.randn(g.num_nodes(), 5)"
   ]
  },
  {
   "cell_type": "code",
   "execution_count": 36,
   "id": "5a72af1d-762c-4bab-9b27-e99aa0817c3c",
   "metadata": {},
   "outputs": [
    {
     "data": {
      "text/plain": [
       "(tensor([0, 0, 0, 1]), tensor([1, 2, 3, 3]))"
      ]
     },
     "execution_count": 36,
     "metadata": {},
     "output_type": "execute_result"
    }
   ],
   "source": [
    "g.edges()"
   ]
  },
  {
   "cell_type": "markdown",
   "id": "65ac0360-118b-445e-ba78-495b9292557f",
   "metadata": {},
   "source": [
    "# DGLGraph on GPU "
   ]
  },
  {
   "cell_type": "code",
   "execution_count": 45,
   "id": "cd2248a5-8d92-4284-9fe7-753229291f91",
   "metadata": {},
   "outputs": [],
   "source": [
    "u, v = torch.tensor([0, 1, 2]), torch.tensor([2, 3, 4])\n",
    "g = dgl.graph((u, v))\n",
    "\n",
    "g.ndata['x'] = torch.randn(5, 5)\n",
    "# send graph to device\n",
    "device = 'cuda' if torch.cuda.is_available() else 'cpu'\n",
    "cuda_g = g.to(device)"
   ]
  },
  {
   "cell_type": "code",
   "execution_count": 52,
   "id": "d2d567ca-281d-417d-829e-606316e75bfc",
   "metadata": {},
   "outputs": [
    {
     "data": {
      "text/plain": [
       "(tensor([2]), tensor([4]))"
      ]
     },
     "execution_count": 52,
     "metadata": {},
     "output_type": "execute_result"
    }
   ],
   "source": [
    "cuda_g.in_edges([4])"
   ]
  },
  {
   "cell_type": "code",
   "execution_count": null,
   "id": "3cf05f66-39ea-46af-93bf-9f1e02800ad2",
   "metadata": {},
   "outputs": [],
   "source": []
  },
  {
   "cell_type": "markdown",
   "id": "d91a1e03-6947-40c9-90bd-0bc013cf0311",
   "metadata": {},
   "source": [
    "# message functions "
   ]
  },
  {
   "cell_type": "code",
   "execution_count": 53,
   "id": "bd8f29a6-1ddd-41f9-a027-5eb456538d6f",
   "metadata": {},
   "outputs": [
    {
     "data": {
      "text/plain": [
       "Graph(num_nodes=5, num_edges=3,\n",
       "      ndata_schemes={'x': Scheme(shape=(5,), dtype=torch.float32)}\n",
       "      edata_schemes={})"
      ]
     },
     "execution_count": 53,
     "metadata": {},
     "output_type": "execute_result"
    }
   ],
   "source": [
    "g"
   ]
  },
  {
   "cell_type": "code",
   "execution_count": 55,
   "id": "b875b965-af76-4184-89c8-547e398636fa",
   "metadata": {},
   "outputs": [],
   "source": [
    "edges = g.edges()"
   ]
  },
  {
   "cell_type": "code",
   "execution_count": 60,
   "id": "f983f4a2-45fd-410f-8c8c-d2e2358bd81b",
   "metadata": {},
   "outputs": [],
   "source": [
    "def edge_udf(edges):\n",
    "    return {'dst': edges.dst['x']}"
   ]
  },
  {
   "cell_type": "code",
   "execution_count": 61,
   "id": "cf9cd620-6752-4ce6-b06c-479bd1694b71",
   "metadata": {},
   "outputs": [
    {
     "data": {
      "text/plain": [
       "tensor([[ 0.8223, -0.4124,  1.1526, -0.5104, -0.0501],\n",
       "        [-0.1202, -0.5681,  0.0901, -0.9343, -0.7079],\n",
       "        [ 0.4044, -0.4100, -1.3802, -0.5037,  1.1254]])"
      ]
     },
     "execution_count": 61,
     "metadata": {},
     "output_type": "execute_result"
    }
   ],
   "source": [
    "g.apply_edges(edge_udf)\n",
    "g.edata['dst']"
   ]
  },
  {
   "cell_type": "code",
   "execution_count": null,
   "id": "c7850b4b-c17d-4311-934a-bedbeedc96fd",
   "metadata": {},
   "outputs": [],
   "source": []
  },
  {
   "cell_type": "code",
   "execution_count": 10,
   "id": "11572904-8e05-4441-9c89-5bc7d89fc658",
   "metadata": {},
   "outputs": [],
   "source": [
    "test=slice(1, 20, 2)"
   ]
  },
  {
   "cell_type": "code",
   "execution_count": 12,
   "id": "cdabc769-cc4d-4161-83b3-d2e5a9a10292",
   "metadata": {},
   "outputs": [
    {
     "data": {
      "text/plain": [
       "array([ 1,  3,  5,  7,  9, 11, 13, 15, 17, 19])"
      ]
     },
     "execution_count": 12,
     "metadata": {},
     "output_type": "execute_result"
    }
   ],
   "source": [
    "import numpy as np\n",
    "np.arange(test.start, test.stop, test.step)"
   ]
  },
  {
   "cell_type": "code",
   "execution_count": null,
   "id": "43284560-2550-4fa3-80f4-c4067458ed46",
   "metadata": {},
   "outputs": [],
   "source": []
  }
 ],
 "metadata": {
  "kernelspec": {
   "display_name": "PyG",
   "language": "python",
   "name": "pyg"
  },
  "language_info": {
   "codemirror_mode": {
    "name": "ipython",
    "version": 3
   },
   "file_extension": ".py",
   "mimetype": "text/x-python",
   "name": "python",
   "nbconvert_exporter": "python",
   "pygments_lexer": "ipython3",
   "version": "3.8.12"
  }
 },
 "nbformat": 4,
 "nbformat_minor": 5
}
